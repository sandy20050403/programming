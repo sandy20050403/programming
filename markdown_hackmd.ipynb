{
  "nbformat": 4,
  "nbformat_minor": 0,
  "metadata": {
    "colab": {
      "provenance": [],
      "authorship_tag": "ABX9TyMEnszcnT2vsug+Zz2Q7/Mv",
      "include_colab_link": true
    },
    "kernelspec": {
      "name": "python3",
      "display_name": "Python 3"
    },
    "language_info": {
      "name": "python"
    }
  },
  "cells": [
    {
      "cell_type": "markdown",
      "metadata": {
        "id": "view-in-github",
        "colab_type": "text"
      },
      "source": [
        "<a href=\"https://colab.research.google.com/github/sandy20050403/programming/blob/main/markdown_hackmd.ipynb\" target=\"_parent\"><img src=\"https://colab.research.google.com/assets/colab-badge.svg\" alt=\"Open In Colab\"/></a>"
      ]
    },
    {
      "cell_type": "code",
      "execution_count": 4,
      "metadata": {
        "colab": {
          "base_uri": "https://localhost:8080/"
        },
        "id": "60QmIHQfqaK9",
        "outputId": "18ef83ce-5a39-436f-dba4-382c1ee06fd3"
      },
      "outputs": [
        {
          "output_type": "stream",
          "name": "stdout",
          "text": [
            "Enter a numeric grade12\n",
            "Your letter grade is  F\n"
          ]
        }
      ],
      "source": [
        " #Letter Grade Converter\n",
        "grade = int(input(\"Enter a numeric grade\"))\n",
        "if grade >=90:\n",
        "    letter_grade='A'\n",
        "elif grade >=80:\n",
        "    letter_grade='B'\n",
        "elif grade >=70:\n",
        "    letter_grade='C'\n",
        "elif grade >=65:\n",
        "    letter_grade='D'\n",
        "else:\n",
        "\tletter_grade='F'\n",
        "print(\"Your letter grade is \", letter_grade)"
      ]
    }
  ]
}